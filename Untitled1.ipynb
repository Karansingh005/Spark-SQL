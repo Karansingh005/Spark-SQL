{
 "cells": [
  {
   "cell_type": "code",
   "execution_count": 13,
   "id": "7bc37a15-afc7-4f10-b038-76b0707881a3",
   "metadata": {},
   "outputs": [],
   "source": [
    "#!pip install findspark\n",
    "#!pip install delta-spark\n",
    "import findspark\n",
    "findspark.init()\n",
    "\n",
    "import pyspark\n",
    "\n",
    "from delta import *\n",
    "\n",
    "builder = pyspark.sql.SparkSession.builder.appName(\"MyApp\") \\\n",
    "    .config(\"spark.sql.extensions\", \"io.delta.sql.DeltaSparkSessionExtension\") \\\n",
    "    .config(\"spark.sql.catalog.spark_catalog\", \"org.apache.spark.sql.delta.catalog.DeltaCatalog\")\n",
    "\n",
    "spark = configure_spark_with_delta_pip(builder).getOrCreate()"
   ]
  },
  {
   "cell_type": "markdown",
   "id": "2bf88fd8-4f20-4c95-bb0e-c903313cccca",
   "metadata": {},
   "source": [
    "## Managed Tables"
   ]
  },
  {
   "cell_type": "code",
   "execution_count": 14,
   "id": "d60b5cb5-bddf-41e0-a193-e567f8c02d62",
   "metadata": {},
   "outputs": [],
   "source": [
    "df = spark.read.format(\"csv\").option(\"header\", \"true\").load(\"/home/karan/Downloads/output_file.csv\")"
   ]
  },
  {
   "cell_type": "code",
   "execution_count": 15,
   "id": "628b80c2-d45d-4b60-809c-0e3240854611",
   "metadata": {},
   "outputs": [
    {
     "name": "stderr",
     "output_type": "stream",
     "text": [
      "                                                                                \r"
     ]
    }
   ],
   "source": [
    "df.write.format(\"delta\").mode(\"overwrite\").saveAsTable(\"reddit1\")"
   ]
  },
  {
   "cell_type": "code",
   "execution_count": 16,
   "id": "58b1b657-c1fe-4fbb-b239-ab9f591663e5",
   "metadata": {},
   "outputs": [
    {
     "data": {
      "text/plain": [
       "[Table(name='reddit1', catalog='spark_catalog', namespace=['default'], description=None, tableType='MANAGED', isTemporary=False)]"
      ]
     },
     "execution_count": 16,
     "metadata": {},
     "output_type": "execute_result"
    }
   ],
   "source": [
    "spark.catalog.listTables()"
   ]
  },
  {
   "cell_type": "code",
   "execution_count": 17,
   "id": "fb13f0c8-ba5c-4d1a-9c0a-83c914d3270c",
   "metadata": {},
   "outputs": [
    {
     "data": {
      "text/plain": [
       "DataFrame[title: string, upvotes: string, comments: string, time: string, author: string, subreddit: string, thread: string]"
      ]
     },
     "execution_count": 17,
     "metadata": {},
     "output_type": "execute_result"
    }
   ],
   "source": [
    "spark.sql(\"SELECT * FROM reddit1;\")"
   ]
  },
  {
   "cell_type": "code",
   "execution_count": 22,
   "id": "72815580-7369-4f08-a305-602db059e91f",
   "metadata": {},
   "outputs": [
    {
     "data": {
      "text/plain": [
       "Row(title='Weekly Entering & Transitioning - Thread 16 Oct, 2023 - 23 Oct, 2023', upvotes='5', comments='91', time='120', author='AutoModerator', subreddit='self.datascience', thread='Meta')"
      ]
     },
     "execution_count": 22,
     "metadata": {},
     "output_type": "execute_result"
    }
   ],
   "source": [
    "df.head()"
   ]
  },
  {
   "cell_type": "markdown",
   "id": "f0110ff3-b04e-47ef-a9fa-3eecb300b1bb",
   "metadata": {},
   "source": [
    "## Unmanaged Tables"
   ]
  },
  {
   "cell_type": "code",
   "execution_count": 23,
   "id": "ef11cffe-5d52-41f6-9d33-299ff9e30e40",
   "metadata": {},
   "outputs": [
    {
     "name": "stderr",
     "output_type": "stream",
     "text": [
      "                                                                                \r"
     ]
    }
   ],
   "source": [
    "df.repartition(2).write.format(\"delta\").mode(\"overwrite\").\\\n",
    "option(\"path\", \"Files/reddit2\")\\\n",
    ".saveAsTable(\"reddit2\")"
   ]
  },
  {
   "cell_type": "code",
   "execution_count": 24,
   "id": "a7661af7-8800-4b19-adfd-74a59897c8bd",
   "metadata": {},
   "outputs": [
    {
     "data": {
      "text/plain": [
       "[Table(name='reddit1', catalog='spark_catalog', namespace=['default'], description=None, tableType='MANAGED', isTemporary=False),\n",
       " Table(name='reddit2', catalog='spark_catalog', namespace=['default'], description=None, tableType='EXTERNAL', isTemporary=False)]"
      ]
     },
     "execution_count": 24,
     "metadata": {},
     "output_type": "execute_result"
    }
   ],
   "source": [
    "spark.catalog.listTables()"
   ]
  },
  {
   "cell_type": "code",
   "execution_count": 25,
   "id": "95d014e5-6693-4934-86db-670609f9fd27",
   "metadata": {},
   "outputs": [
    {
     "data": {
      "text/plain": [
       "DataFrame[title: string, upvotes: string, comments: string, time: string, author: string, subreddit: string, thread: string]"
      ]
     },
     "execution_count": 25,
     "metadata": {},
     "output_type": "execute_result"
    }
   ],
   "source": [
    "spark.sql(\"SELECT * FROM reddit2;\")"
   ]
  },
  {
   "cell_type": "code",
   "execution_count": 26,
   "id": "da5aab5e-efbb-418b-9706-e50d7012efd9",
   "metadata": {},
   "outputs": [
    {
     "data": {
      "text/plain": [
       "Row(title='Weekly Entering & Transitioning - Thread 16 Oct, 2023 - 23 Oct, 2023', upvotes='5', comments='91', time='120', author='AutoModerator', subreddit='self.datascience', thread='Meta')"
      ]
     },
     "execution_count": 26,
     "metadata": {},
     "output_type": "execute_result"
    }
   ],
   "source": [
    "df.head()"
   ]
  },
  {
   "cell_type": "code",
   "execution_count": null,
   "id": "87411392-9289-4c26-8f59-96f085928a51",
   "metadata": {},
   "outputs": [],
   "source": []
  }
 ],
 "metadata": {
  "kernelspec": {
   "display_name": "Python 3 (ipykernel)",
   "language": "python",
   "name": "python3"
  },
  "language_info": {
   "codemirror_mode": {
    "name": "ipython",
    "version": 3
   },
   "file_extension": ".py",
   "mimetype": "text/x-python",
   "name": "python",
   "nbconvert_exporter": "python",
   "pygments_lexer": "ipython3",
   "version": "3.10.12"
  }
 },
 "nbformat": 4,
 "nbformat_minor": 5
}
